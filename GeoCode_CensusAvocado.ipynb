{
 "cells": [
  {
   "cell_type": "markdown",
   "metadata": {},
   "source": [
    "## Get the lat long coordinates for each city"
   ]
  },
  {
   "cell_type": "code",
   "execution_count": 1,
   "metadata": {},
   "outputs": [],
   "source": [
    "import pandas as pd\n",
    "import os\n",
    "import gmaps\n",
    "from pprint import pprint\n",
    "import requests\n",
    "\n",
    "# Google developer API key\n",
    "from gconfig import gkey"
   ]
  },
  {
   "cell_type": "code",
   "execution_count": 2,
   "metadata": {},
   "outputs": [],
   "source": [
    "# import csv (merged dataframes).\n",
    "fi2015 = os.path.join('data','merged_df_2015.csv')\n",
    "fi2016 = os.path.join('data','merged_df_2016.csv')\n",
    "fi2017 = os.path.join('data','merged_df_2017.csv')\n",
    "\n",
    "# read csv file\n",
    "df_2015 = pd.read_csv(fi2015)\n",
    "df_2016 = pd.read_csv(fi2016)\n",
    "df_2017 = pd.read_csv(fi2017)"
   ]
  },
  {
   "cell_type": "code",
   "execution_count": 3,
   "metadata": {},
   "outputs": [
    {
     "data": {
      "text/html": [
       "<div>\n",
       "<style scoped>\n",
       "    .dataframe tbody tr th:only-of-type {\n",
       "        vertical-align: middle;\n",
       "    }\n",
       "\n",
       "    .dataframe tbody tr th {\n",
       "        vertical-align: top;\n",
       "    }\n",
       "\n",
       "    .dataframe thead th {\n",
       "        text-align: right;\n",
       "    }\n",
       "</style>\n",
       "<table border=\"1\" class=\"dataframe\">\n",
       "  <thead>\n",
       "    <tr style=\"text-align: right;\">\n",
       "      <th></th>\n",
       "      <th>Unnamed: 0</th>\n",
       "      <th>region</th>\n",
       "      <th>Population</th>\n",
       "      <th>Median Age</th>\n",
       "      <th>Per Capita Income</th>\n",
       "      <th>AveragePrice</th>\n",
       "      <th>Total Volume</th>\n",
       "      <th>year</th>\n",
       "    </tr>\n",
       "  </thead>\n",
       "  <tbody>\n",
       "    <tr>\n",
       "      <td>0</td>\n",
       "      <td>0</td>\n",
       "      <td>Albany</td>\n",
       "      <td>5355.093023</td>\n",
       "      <td>43.820930</td>\n",
       "      <td>31027.627907</td>\n",
       "      <td>1.538750</td>\n",
       "      <td>38749.004135</td>\n",
       "      <td>2015.0</td>\n",
       "    </tr>\n",
       "    <tr>\n",
       "      <td>1</td>\n",
       "      <td>1</td>\n",
       "      <td>Atlanta</td>\n",
       "      <td>11295.530547</td>\n",
       "      <td>39.880064</td>\n",
       "      <td>22475.807074</td>\n",
       "      <td>1.380577</td>\n",
       "      <td>223381.712692</td>\n",
       "      <td>2015.0</td>\n",
       "    </tr>\n",
       "    <tr>\n",
       "      <td>2</td>\n",
       "      <td>2</td>\n",
       "      <td>BaltimoreWashington</td>\n",
       "      <td>26444.240385</td>\n",
       "      <td>38.003846</td>\n",
       "      <td>43212.625000</td>\n",
       "      <td>1.368846</td>\n",
       "      <td>390822.880192</td>\n",
       "      <td>2015.0</td>\n",
       "    </tr>\n",
       "    <tr>\n",
       "      <td>3</td>\n",
       "      <td>3</td>\n",
       "      <td>Boise</td>\n",
       "      <td>26614.300000</td>\n",
       "      <td>37.280000</td>\n",
       "      <td>31414.700000</td>\n",
       "      <td>1.373750</td>\n",
       "      <td>36388.051346</td>\n",
       "      <td>2015.0</td>\n",
       "    </tr>\n",
       "    <tr>\n",
       "      <td>4</td>\n",
       "      <td>4</td>\n",
       "      <td>Boston</td>\n",
       "      <td>23028.012346</td>\n",
       "      <td>37.492593</td>\n",
       "      <td>42649.234568</td>\n",
       "      <td>1.473558</td>\n",
       "      <td>263990.304231</td>\n",
       "      <td>2015.0</td>\n",
       "    </tr>\n",
       "  </tbody>\n",
       "</table>\n",
       "</div>"
      ],
      "text/plain": [
       "   Unnamed: 0               region    Population  Median Age  \\\n",
       "0           0               Albany   5355.093023   43.820930   \n",
       "1           1              Atlanta  11295.530547   39.880064   \n",
       "2           2  BaltimoreWashington  26444.240385   38.003846   \n",
       "3           3                Boise  26614.300000   37.280000   \n",
       "4           4               Boston  23028.012346   37.492593   \n",
       "\n",
       "   Per Capita Income  AveragePrice   Total Volume    year  \n",
       "0       31027.627907      1.538750   38749.004135  2015.0  \n",
       "1       22475.807074      1.380577  223381.712692  2015.0  \n",
       "2       43212.625000      1.368846  390822.880192  2015.0  \n",
       "3       31414.700000      1.373750   36388.051346  2015.0  \n",
       "4       42649.234568      1.473558  263990.304231  2015.0  "
      ]
     },
     "execution_count": 3,
     "metadata": {},
     "output_type": "execute_result"
    }
   ],
   "source": [
    "df_2015.head()"
   ]
  },
  {
   "cell_type": "markdown",
   "metadata": {},
   "source": [
    "Replace the name of the city to add state. Some cities had more than one city associated to the field, so a middle city between the two was assigned (see documentation for which city was picked)"
   ]
  },
  {
   "cell_type": "code",
   "execution_count": 4,
   "metadata": {},
   "outputs": [],
   "source": [
    "replace = {'Albany': 'Albany, New York', 'Atlanta': 'Atlanta, Georgia', 'Boston': 'Boston, Massachusetts', 'HartfordSpringfield': 'Windsor Locks, Connecticut', 'New York': 'New York, New York',\n",
    "          'Syracuse': 'Syracuse, New York', 'BuffaloRochester': 'Batavia, New York', 'Pittsburgh': 'Pittsburgh, Pennsylvania', 'HarrisburgScranton': 'Hazleton, Pennsylvania', 'Philadelphia': 'Philadelphia, Pennsylvania',\n",
    "          'BaltimoreWashington': 'Laurel, Maryland', 'SanDiego': 'San Diego, California', 'RichmondNorfolk': 'Jamestown, Virginia', 'Roanoke': 'Roanoke, Virginia', 'RaleighGreensboro': 'Hillsborough, North Carolina',\n",
    "          'Charlotte': 'Charlotte, North Carolina','SouthCarolina': 'Columbia, South Carolina', 'Atlanta': 'Atlanta, Georgia', 'Jacksonville': 'Jacksonville, Florida', 'Orlando': 'Orlando, Florida',\n",
    "          'MiamiFtLauderdale': 'Miami, Florida', 'Tampa': 'Tampa, Florida', 'Nashville': 'Nashville, Tennessee', 'Louisville': 'Louisville, Kentucky', 'CincinnatiDayton': 'Monroe, Ohio',\n",
    "          'Columbus': 'Columbus, Ohio', 'Indianapolis': 'Indianapolis, Indiana', 'Detroit': 'Detroit, Michigan', 'Grand Rapids': 'Grand Rapids, Michigan', 'Chicago': 'Chicago, Illinois',\n",
    "          'GreatLakes': 'Milwaukee, Wisconsin', 'StLouis': 'St Louis, Missouri', 'NewOrleansMobile': 'New Orleans, Louisiana', 'DallasFtWorth': 'Dallas, Texas', 'Houston': 'Houston, Texas',\n",
    "          'Denver': 'Denver, Colorado', 'Boise': 'Boise, Idaho', 'PhoenixTucson': 'Eloy, Arizona', 'WestTexNewMexico': 'Albuquerque, New Mexico', 'LasVegas': 'Las Vegas, Nevada',\n",
    "          'Los Angeles': 'Los Angeles, California', 'SanFrancisco': 'San Francisco, California', 'Sacramento': 'Sacramento, California', 'California': 'Fresno, California',\n",
    "          'Portland': 'Portland, Oregon', 'Seattle': 'Seattle, Washington', 'Spokane': 'Spokane, Washington'}\n",
    "\n",
    "df_2015 = df_2015.replace({'region' : replace})\n",
    "df_2016 = df_2016.replace({'region' : replace})\n",
    "df_2017 = df_2017.replace({'region' : replace})"
   ]
  },
  {
   "cell_type": "code",
   "execution_count": 5,
   "metadata": {},
   "outputs": [],
   "source": [
    "# citites with state stored\n",
    "target_2015 = df_2015['region'].to_list()\n",
    "# target_2016 = df_2016['region'].to_list()\n",
    "# target_2017 = df_2017['region'].to_list()"
   ]
  },
  {
   "cell_type": "code",
   "execution_count": 6,
   "metadata": {},
   "outputs": [],
   "source": [
    "# empty list to append lat long values\n",
    "lat = []\n",
    "lng = []\n",
    "\n",
    "# parameters to be used in the Geocode API\n",
    "params = {\"address\": target_2015, \n",
    "          \"key\": gkey}\n",
    "\n",
    "\n",
    "# Build URL using the Google Maps Geocode API\n",
    "base_url = \"https://maps.googleapis.com/maps/api/geocode/json\"\n",
    "\n",
    "# Execute request using the URL and dictionary containing query parameters\n",
    "for city in target_2015:\n",
    "    response = requests.get(base_url, params=params).json()\n",
    "    lat.append(response[\"results\"][0][\"geometry\"][\"location\"][\"lat\"])\n",
    "    lng.append(response[\"results\"][0][\"geometry\"][\"location\"][\"lng\"])\n"
   ]
  },
  {
   "cell_type": "code",
   "execution_count": 7,
   "metadata": {},
   "outputs": [],
   "source": [
    "# Store the lat long with city in a dict\n",
    "lat_long = {\"region\": target_2015,\n",
    "           \"latitude\": lat,\n",
    "           \"longitude\": lng}"
   ]
  },
  {
   "cell_type": "code",
   "execution_count": 8,
   "metadata": {},
   "outputs": [],
   "source": [
    "# Make a data frame from dict\n",
    "df = pd.DataFrame(lat_long)"
   ]
  },
  {
   "cell_type": "code",
   "execution_count": 9,
   "metadata": {},
   "outputs": [
    {
     "data": {
      "text/html": [
       "<div>\n",
       "<style scoped>\n",
       "    .dataframe tbody tr th:only-of-type {\n",
       "        vertical-align: middle;\n",
       "    }\n",
       "\n",
       "    .dataframe tbody tr th {\n",
       "        vertical-align: top;\n",
       "    }\n",
       "\n",
       "    .dataframe thead th {\n",
       "        text-align: right;\n",
       "    }\n",
       "</style>\n",
       "<table border=\"1\" class=\"dataframe\">\n",
       "  <thead>\n",
       "    <tr style=\"text-align: right;\">\n",
       "      <th></th>\n",
       "      <th>Unnamed: 0</th>\n",
       "      <th>region</th>\n",
       "      <th>Population</th>\n",
       "      <th>Median Age</th>\n",
       "      <th>Per Capita Income</th>\n",
       "      <th>AveragePrice</th>\n",
       "      <th>Total Volume</th>\n",
       "      <th>year</th>\n",
       "      <th>latitude</th>\n",
       "      <th>longitude</th>\n",
       "    </tr>\n",
       "  </thead>\n",
       "  <tbody>\n",
       "    <tr>\n",
       "      <td>0</td>\n",
       "      <td>0</td>\n",
       "      <td>Albany, New York</td>\n",
       "      <td>5355.093023</td>\n",
       "      <td>43.820930</td>\n",
       "      <td>31027.627907</td>\n",
       "      <td>1.538750</td>\n",
       "      <td>38749.004135</td>\n",
       "      <td>2015.0</td>\n",
       "      <td>42.652579</td>\n",
       "      <td>-73.756232</td>\n",
       "    </tr>\n",
       "    <tr>\n",
       "      <td>1</td>\n",
       "      <td>1</td>\n",
       "      <td>Atlanta, Georgia</td>\n",
       "      <td>11295.530547</td>\n",
       "      <td>39.880064</td>\n",
       "      <td>22475.807074</td>\n",
       "      <td>1.380577</td>\n",
       "      <td>223381.712692</td>\n",
       "      <td>2015.0</td>\n",
       "      <td>42.652579</td>\n",
       "      <td>-73.756232</td>\n",
       "    </tr>\n",
       "    <tr>\n",
       "      <td>2</td>\n",
       "      <td>2</td>\n",
       "      <td>Laurel, Maryland</td>\n",
       "      <td>26444.240385</td>\n",
       "      <td>38.003846</td>\n",
       "      <td>43212.625000</td>\n",
       "      <td>1.368846</td>\n",
       "      <td>390822.880192</td>\n",
       "      <td>2015.0</td>\n",
       "      <td>42.652579</td>\n",
       "      <td>-73.756232</td>\n",
       "    </tr>\n",
       "    <tr>\n",
       "      <td>3</td>\n",
       "      <td>3</td>\n",
       "      <td>Boise, Idaho</td>\n",
       "      <td>26614.300000</td>\n",
       "      <td>37.280000</td>\n",
       "      <td>31414.700000</td>\n",
       "      <td>1.373750</td>\n",
       "      <td>36388.051346</td>\n",
       "      <td>2015.0</td>\n",
       "      <td>42.652579</td>\n",
       "      <td>-73.756232</td>\n",
       "    </tr>\n",
       "    <tr>\n",
       "      <td>4</td>\n",
       "      <td>4</td>\n",
       "      <td>Boston, Massachusetts</td>\n",
       "      <td>23028.012346</td>\n",
       "      <td>37.492593</td>\n",
       "      <td>42649.234568</td>\n",
       "      <td>1.473558</td>\n",
       "      <td>263990.304231</td>\n",
       "      <td>2015.0</td>\n",
       "      <td>42.652579</td>\n",
       "      <td>-73.756232</td>\n",
       "    </tr>\n",
       "  </tbody>\n",
       "</table>\n",
       "</div>"
      ],
      "text/plain": [
       "   Unnamed: 0                 region    Population  Median Age  \\\n",
       "0           0       Albany, New York   5355.093023   43.820930   \n",
       "1           1       Atlanta, Georgia  11295.530547   39.880064   \n",
       "2           2       Laurel, Maryland  26444.240385   38.003846   \n",
       "3           3           Boise, Idaho  26614.300000   37.280000   \n",
       "4           4  Boston, Massachusetts  23028.012346   37.492593   \n",
       "\n",
       "   Per Capita Income  AveragePrice   Total Volume    year   latitude  \\\n",
       "0       31027.627907      1.538750   38749.004135  2015.0  42.652579   \n",
       "1       22475.807074      1.380577  223381.712692  2015.0  42.652579   \n",
       "2       43212.625000      1.368846  390822.880192  2015.0  42.652579   \n",
       "3       31414.700000      1.373750   36388.051346  2015.0  42.652579   \n",
       "4       42649.234568      1.473558  263990.304231  2015.0  42.652579   \n",
       "\n",
       "   longitude  \n",
       "0 -73.756232  \n",
       "1 -73.756232  \n",
       "2 -73.756232  \n",
       "3 -73.756232  \n",
       "4 -73.756232  "
      ]
     },
     "execution_count": 9,
     "metadata": {},
     "output_type": "execute_result"
    }
   ],
   "source": [
    "# Merge the two dataframes on region to add the lat lon information\n",
    "summary_df_2015 = df_2015.merge(df, on='region')\n",
    "summary_df_2016 = df_2016.merge(df, on='region')\n",
    "summary_df_2017 = df_2017.merge(df, on='region')\n",
    "summary_df_2015.head()"
   ]
  },
  {
   "cell_type": "markdown",
   "metadata": {},
   "source": [
    "### Heat Map (Age)"
   ]
  },
  {
   "cell_type": "code",
   "execution_count": 10,
   "metadata": {},
   "outputs": [],
   "source": [
    "gmaps.configure(gkey)"
   ]
  },
  {
   "cell_type": "code",
   "execution_count": 11,
   "metadata": {},
   "outputs": [],
   "source": [
    "# Store 'Lat' and 'Lng' into a variable \n",
    "locations_2015 = summary_df_2015[[\"latitude\", \"longitude\"]]\n",
    "locations_2016 = summary_df_2016[[\"latitude\", \"longitude\"]]\n",
    "locations_2017 = summary_df_2017[[\"latitude\", \"longitude\"]]\n",
    "\n",
    "\n",
    "# Store median age value in a variable \n",
    "age_2015 = summary_df_2015[\"Median Age\"].astype(float)"
   ]
  },
  {
   "cell_type": "code",
   "execution_count": 12,
   "metadata": {},
   "outputs": [
    {
     "data": {
      "application/vnd.jupyter.widget-view+json": {
       "model_id": "21e134f4cde84e099dbe8b868858ef5d",
       "version_major": 2,
       "version_minor": 0
      },
      "text/plain": [
       "Figure(layout=FigureLayout(height='420px'))"
      ]
     },
     "metadata": {},
     "output_type": "display_data"
    }
   ],
   "source": [
    "# Create the mapping figure\n",
    "fig = gmaps.figure()\n",
    "\n",
    "# Create the heatmap layer using locations and poverty_rate\n",
    "heat_layer = gmaps.heatmap_layer(locations_2015, weights=age_2015, \n",
    "                                 dissipating=False, max_intensity=100,\n",
    "                                 point_radius=0.9)\n",
    "# Add heatmap layer to figure\n",
    "fig.add_layer(heat_layer)\n",
    "\n",
    "fig"
   ]
  },
  {
   "cell_type": "markdown",
   "metadata": {},
   "source": [
    "### Heat Map (Consumption)"
   ]
  },
  {
   "cell_type": "code",
   "execution_count": null,
   "metadata": {},
   "outputs": [],
   "source": [
    "consu_2015 = summary_df_2015[\"Total Volume\"]\n",
    "consu_layer = gmaps.symbol_layer(\n",
    "    locations_2015, \n",
    "    fill_color=\"green\",\n",
    "    stroke_color='navy',\n",
    "    fill_opacity=norm_count,\n",
    "    stroke_opacity=norm_count,\n",
    "    # the below line creates a list of strings to populate the info-box when you click on a datapoint on the map\n",
    "    info_box_content=[f\"Bank amount: {bank}\" for bank in bank_count]\n",
    ")\n",
    "\n",
    "# Create a mapping figure\n",
    "fig = gmaps.figure()\n",
    "\n",
    "# Add the layer to the figure\n",
    "fig.add_layer(consulayer)\n",
    "\n",
    "# Display the figure\n",
    "fig"
   ]
  }
 ],
 "metadata": {
  "kernelspec": {
   "display_name": "Python 3",
   "language": "python",
   "name": "python3"
  },
  "language_info": {
   "codemirror_mode": {
    "name": "ipython",
    "version": 3
   },
   "file_extension": ".py",
   "mimetype": "text/x-python",
   "name": "python",
   "nbconvert_exporter": "python",
   "pygments_lexer": "ipython3",
   "version": "3.7.4"
  }
 },
 "nbformat": 4,
 "nbformat_minor": 4
}
