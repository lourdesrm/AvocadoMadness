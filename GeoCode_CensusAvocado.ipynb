{
 "cells": [
  {
   "cell_type": "markdown",
   "metadata": {},
   "source": [
    "## Get the lat long coordinates for each city"
   ]
  },
  {
   "cell_type": "code",
   "execution_count": 15,
   "metadata": {},
   "outputs": [],
   "source": [
    "import pandas as pd\n",
    "import os\n",
    "import gmaps\n",
    "from pprint import pprint\n",
    "import requests\n",
    "import numpy as np\n",
    "\n",
    "# Google developer API key\n",
    "from gconfig import gkey"
   ]
  },
  {
   "cell_type": "code",
   "execution_count": 16,
   "metadata": {},
   "outputs": [],
   "source": [
    "# import csv (merged dataframes).\n",
    "fi2015 = os.path.join('Resources', 'Census Data','merged_df_2015.csv')\n",
    "fi2016 = os.path.join('Resources', 'Census Data','merged_df_2016.csv')\n",
    "fi2017 = os.path.join('Resources', 'Census Data','merged_df_2017.csv')\n",
    "\n",
    "# read csv file\n",
    "df_2015 = pd.read_csv(fi2015)\n",
    "df_2016 = pd.read_csv(fi2016)\n",
    "df_2017 = pd.read_csv(fi2017)"
   ]
  },
  {
   "cell_type": "code",
   "execution_count": 17,
   "metadata": {},
   "outputs": [
    {
     "data": {
      "text/html": [
       "<div>\n",
       "<style scoped>\n",
       "    .dataframe tbody tr th:only-of-type {\n",
       "        vertical-align: middle;\n",
       "    }\n",
       "\n",
       "    .dataframe tbody tr th {\n",
       "        vertical-align: top;\n",
       "    }\n",
       "\n",
       "    .dataframe thead th {\n",
       "        text-align: right;\n",
       "    }\n",
       "</style>\n",
       "<table border=\"1\" class=\"dataframe\">\n",
       "  <thead>\n",
       "    <tr style=\"text-align: right;\">\n",
       "      <th></th>\n",
       "      <th>Unnamed: 0</th>\n",
       "      <th>region</th>\n",
       "      <th>Population</th>\n",
       "      <th>Median Age</th>\n",
       "      <th>Per Capita Income</th>\n",
       "      <th>AveragePrice</th>\n",
       "      <th>Total Volume</th>\n",
       "      <th>year</th>\n",
       "    </tr>\n",
       "  </thead>\n",
       "  <tbody>\n",
       "    <tr>\n",
       "      <th>0</th>\n",
       "      <td>0</td>\n",
       "      <td>Albany</td>\n",
       "      <td>5400.494118</td>\n",
       "      <td>43.880000</td>\n",
       "      <td>31850.588235</td>\n",
       "      <td>1.533942</td>\n",
       "      <td>50618.611442</td>\n",
       "      <td>2016.0</td>\n",
       "    </tr>\n",
       "    <tr>\n",
       "      <th>1</th>\n",
       "      <td>1</td>\n",
       "      <td>Atlanta</td>\n",
       "      <td>11380.430868</td>\n",
       "      <td>40.132476</td>\n",
       "      <td>23222.794212</td>\n",
       "      <td>1.214135</td>\n",
       "      <td>272373.829808</td>\n",
       "      <td>2016.0</td>\n",
       "    </tr>\n",
       "    <tr>\n",
       "      <th>2</th>\n",
       "      <td>2</td>\n",
       "      <td>BaltimoreWashington</td>\n",
       "      <td>26714.144231</td>\n",
       "      <td>38.093269</td>\n",
       "      <td>44071.394231</td>\n",
       "      <td>1.587596</td>\n",
       "      <td>393209.637692</td>\n",
       "      <td>2016.0</td>\n",
       "    </tr>\n",
       "    <tr>\n",
       "      <th>3</th>\n",
       "      <td>3</td>\n",
       "      <td>Boise</td>\n",
       "      <td>27025.300000</td>\n",
       "      <td>37.170000</td>\n",
       "      <td>32924.900000</td>\n",
       "      <td>1.141923</td>\n",
       "      <td>44745.283942</td>\n",
       "      <td>2016.0</td>\n",
       "    </tr>\n",
       "    <tr>\n",
       "      <th>4</th>\n",
       "      <td>4</td>\n",
       "      <td>Boston</td>\n",
       "      <td>23225.185185</td>\n",
       "      <td>37.593827</td>\n",
       "      <td>43865.283951</td>\n",
       "      <td>1.426154</td>\n",
       "      <td>293954.952596</td>\n",
       "      <td>2016.0</td>\n",
       "    </tr>\n",
       "  </tbody>\n",
       "</table>\n",
       "</div>"
      ],
      "text/plain": [
       "   Unnamed: 0               region    Population  Median Age  \\\n",
       "0           0               Albany   5400.494118   43.880000   \n",
       "1           1              Atlanta  11380.430868   40.132476   \n",
       "2           2  BaltimoreWashington  26714.144231   38.093269   \n",
       "3           3                Boise  27025.300000   37.170000   \n",
       "4           4               Boston  23225.185185   37.593827   \n",
       "\n",
       "   Per Capita Income  AveragePrice   Total Volume    year  \n",
       "0       31850.588235      1.533942   50618.611442  2016.0  \n",
       "1       23222.794212      1.214135  272373.829808  2016.0  \n",
       "2       44071.394231      1.587596  393209.637692  2016.0  \n",
       "3       32924.900000      1.141923   44745.283942  2016.0  \n",
       "4       43865.283951      1.426154  293954.952596  2016.0  "
      ]
     },
     "execution_count": 17,
     "metadata": {},
     "output_type": "execute_result"
    }
   ],
   "source": [
    "df_2016.head()"
   ]
  },
  {
   "cell_type": "markdown",
   "metadata": {},
   "source": [
    "Replace the name of the city to add state. Some cities had more than one city associated to the field, so a middle city between the two was assigned (see documentation for which city was picked)"
   ]
  },
  {
   "cell_type": "code",
   "execution_count": 18,
   "metadata": {},
   "outputs": [],
   "source": [
    "replace = {'Albany': 'Albany, New York', 'Atlanta': 'Atlanta, Georgia', 'Boston': 'Boston, Massachusetts', 'HartfordSpringfield': 'Windsor Locks, Connecticut', 'New York': 'New York, New York',\n",
    "          'Syracuse': 'Syracuse, New York', 'BuffaloRochester': 'Batavia, New York', 'Pittsburgh': 'Pittsburgh, Pennsylvania', 'HarrisburgScranton': 'Hazleton, Pennsylvania', 'Philadelphia': 'Philadelphia, Pennsylvania',\n",
    "          'BaltimoreWashington': 'Laurel, Maryland', 'SanDiego': 'San Diego, California', 'RichmondNorfolk': 'Jamestown, Virginia', 'Roanoke': 'Roanoke, Virginia', 'RaleighGreensboro': 'Hillsborough, North Carolina',\n",
    "          'Charlotte': 'Charlotte, North Carolina','SouthCarolina': 'Columbia, South Carolina', 'Atlanta': 'Atlanta, Georgia', 'Jacksonville': 'Jacksonville, Florida', 'Orlando': 'Orlando, Florida',\n",
    "          'MiamiFtLauderdale': 'Miami, Florida', 'Tampa': 'Tampa, Florida', 'Nashville': 'Nashville, Tennessee', 'Louisville': 'Louisville, Kentucky', 'CincinnatiDayton': 'Monroe, Ohio',\n",
    "          'Columbus': 'Columbus, Ohio', 'Indianapolis': 'Indianapolis, Indiana', 'Detroit': 'Detroit, Michigan', 'Grand Rapids': 'Grand Rapids, Michigan', 'Chicago': 'Chicago, Illinois',\n",
    "          'GreatLakes': 'Milwaukee, Wisconsin', 'StLouis': 'St Louis, Missouri', 'NewOrleansMobile': 'New Orleans, Louisiana', 'DallasFtWorth': 'Dallas, Texas', 'Houston': 'Houston, Texas',\n",
    "          'Denver': 'Denver, Colorado', 'Boise': 'Boise, Idaho', 'PhoenixTucson': 'Eloy, Arizona', 'WestTexNewMexico': 'Albuquerque, New Mexico', 'LasVegas': 'Las Vegas, Nevada',\n",
    "          'Los Angeles': 'Los Angeles, California', 'SanFrancisco': 'San Francisco, California', 'Sacramento': 'Sacramento, California', 'California': 'Fresno, California',\n",
    "          'Portland': 'Portland, Oregon', 'Seattle': 'Seattle, Washington', 'Spokane': 'Spokane, Washington'}\n",
    "\n",
    "df_2015 = df_2015.replace({'region' : replace})\n",
    "df_2016 = df_2016.replace({'region' : replace})\n",
    "df_2017 = df_2017.replace({'region' : replace})"
   ]
  },
  {
   "cell_type": "code",
   "execution_count": 19,
   "metadata": {},
   "outputs": [],
   "source": [
    "# citites with state stored\n",
    "target_2015 = df_2015['region'].to_list()\n",
    "# target_2016 = df_2016['region'].to_list()\n",
    "# target_2017 = df_2017['region'].to_list()"
   ]
  },
  {
   "cell_type": "code",
   "execution_count": 21,
   "metadata": {},
   "outputs": [],
   "source": [
    "# empty list to append lat long values\n",
    "lat = []\n",
    "lng = []\n",
    "city = target_2015\n",
    "#url = ('https://maps.googleapis.com/maps/api/geocode/json?address={0}&key={1}').format(address, gkey)\n",
    "# parameters to be used in the Geocode API\n",
    " \n",
    "key = gkey\n",
    "\n",
    "# Execute request using the URL and dictionary containing query parameters\n",
    "for address in city:\n",
    "    response = requests.get(('https://maps.googleapis.com/maps/api/geocode/json?address={0}&key={1}').format(address, gkey)).json()\n",
    "    lat.append(response[\"results\"][0][\"geometry\"][\"location\"][\"lat\"])\n",
    "    lng.append(response[\"results\"][0][\"geometry\"][\"location\"][\"lng\"])\n"
   ]
  },
  {
   "cell_type": "code",
   "execution_count": 22,
   "metadata": {},
   "outputs": [],
   "source": [
    "# Store the lat long with city in a dict\n",
    "lat_long = {\"region\": target_2015,\n",
    "           \"latitude\": lat,\n",
    "           \"longitude\": lng}"
   ]
  },
  {
   "cell_type": "code",
   "execution_count": 23,
   "metadata": {},
   "outputs": [],
   "source": [
    "# Make a data frame from dict\n",
    "df = pd.DataFrame(lat_long)"
   ]
  },
  {
   "cell_type": "code",
   "execution_count": 26,
   "metadata": {},
   "outputs": [
    {
     "data": {
      "text/html": [
       "<div>\n",
       "<style scoped>\n",
       "    .dataframe tbody tr th:only-of-type {\n",
       "        vertical-align: middle;\n",
       "    }\n",
       "\n",
       "    .dataframe tbody tr th {\n",
       "        vertical-align: top;\n",
       "    }\n",
       "\n",
       "    .dataframe thead th {\n",
       "        text-align: right;\n",
       "    }\n",
       "</style>\n",
       "<table border=\"1\" class=\"dataframe\">\n",
       "  <thead>\n",
       "    <tr style=\"text-align: right;\">\n",
       "      <th></th>\n",
       "      <th>Unnamed: 0</th>\n",
       "      <th>region</th>\n",
       "      <th>Population</th>\n",
       "      <th>Median Age</th>\n",
       "      <th>Per Capita Income</th>\n",
       "      <th>AveragePrice</th>\n",
       "      <th>Total Volume</th>\n",
       "      <th>year</th>\n",
       "      <th>latitude</th>\n",
       "      <th>longitude</th>\n",
       "    </tr>\n",
       "  </thead>\n",
       "  <tbody>\n",
       "    <tr>\n",
       "      <th>0</th>\n",
       "      <td>0</td>\n",
       "      <td>Albany, New York</td>\n",
       "      <td>5355.093023</td>\n",
       "      <td>43.820930</td>\n",
       "      <td>31027.627907</td>\n",
       "      <td>1.538750</td>\n",
       "      <td>38749.004135</td>\n",
       "      <td>2015.0</td>\n",
       "      <td>42.652579</td>\n",
       "      <td>-73.756232</td>\n",
       "    </tr>\n",
       "    <tr>\n",
       "      <th>1</th>\n",
       "      <td>1</td>\n",
       "      <td>Atlanta, Georgia</td>\n",
       "      <td>11295.530547</td>\n",
       "      <td>39.880064</td>\n",
       "      <td>22475.807074</td>\n",
       "      <td>1.380577</td>\n",
       "      <td>223381.712692</td>\n",
       "      <td>2015.0</td>\n",
       "      <td>33.748995</td>\n",
       "      <td>-84.387982</td>\n",
       "    </tr>\n",
       "    <tr>\n",
       "      <th>2</th>\n",
       "      <td>2</td>\n",
       "      <td>Laurel, Maryland</td>\n",
       "      <td>26444.240385</td>\n",
       "      <td>38.003846</td>\n",
       "      <td>43212.625000</td>\n",
       "      <td>1.368846</td>\n",
       "      <td>390822.880192</td>\n",
       "      <td>2015.0</td>\n",
       "      <td>39.099275</td>\n",
       "      <td>-76.848306</td>\n",
       "    </tr>\n",
       "    <tr>\n",
       "      <th>3</th>\n",
       "      <td>3</td>\n",
       "      <td>Boise, Idaho</td>\n",
       "      <td>26614.300000</td>\n",
       "      <td>37.280000</td>\n",
       "      <td>31414.700000</td>\n",
       "      <td>1.373750</td>\n",
       "      <td>36388.051346</td>\n",
       "      <td>2015.0</td>\n",
       "      <td>43.615019</td>\n",
       "      <td>-116.202314</td>\n",
       "    </tr>\n",
       "    <tr>\n",
       "      <th>4</th>\n",
       "      <td>4</td>\n",
       "      <td>Boston, Massachusetts</td>\n",
       "      <td>23028.012346</td>\n",
       "      <td>37.492593</td>\n",
       "      <td>42649.234568</td>\n",
       "      <td>1.473558</td>\n",
       "      <td>263990.304231</td>\n",
       "      <td>2015.0</td>\n",
       "      <td>42.360082</td>\n",
       "      <td>-71.058880</td>\n",
       "    </tr>\n",
       "  </tbody>\n",
       "</table>\n",
       "</div>"
      ],
      "text/plain": [
       "   Unnamed: 0                 region    Population  Median Age  \\\n",
       "0           0       Albany, New York   5355.093023   43.820930   \n",
       "1           1       Atlanta, Georgia  11295.530547   39.880064   \n",
       "2           2       Laurel, Maryland  26444.240385   38.003846   \n",
       "3           3           Boise, Idaho  26614.300000   37.280000   \n",
       "4           4  Boston, Massachusetts  23028.012346   37.492593   \n",
       "\n",
       "   Per Capita Income  AveragePrice   Total Volume    year   latitude  \\\n",
       "0       31027.627907      1.538750   38749.004135  2015.0  42.652579   \n",
       "1       22475.807074      1.380577  223381.712692  2015.0  33.748995   \n",
       "2       43212.625000      1.368846  390822.880192  2015.0  39.099275   \n",
       "3       31414.700000      1.373750   36388.051346  2015.0  43.615019   \n",
       "4       42649.234568      1.473558  263990.304231  2015.0  42.360082   \n",
       "\n",
       "    longitude  \n",
       "0  -73.756232  \n",
       "1  -84.387982  \n",
       "2  -76.848306  \n",
       "3 -116.202314  \n",
       "4  -71.058880  "
      ]
     },
     "execution_count": 26,
     "metadata": {},
     "output_type": "execute_result"
    }
   ],
   "source": [
    "# Merge the two dataframes on region to add the lat lon information\n",
    "summary_df_2015 = df_2015.merge(df, on='region')\n",
    "summary_df_2016 = df_2016.merge(df, on='region')\n",
    "summary_df_2017 = df_2017.merge(df, on='region')\n",
    "summary_df_2015.head()"
   ]
  },
  {
   "cell_type": "markdown",
   "metadata": {},
   "source": [
    "### Heat Map of Total Volume"
   ]
  },
  {
   "cell_type": "code",
   "execution_count": 27,
   "metadata": {},
   "outputs": [],
   "source": [
    "gmaps.configure(gkey)"
   ]
  },
  {
   "cell_type": "code",
   "execution_count": 28,
   "metadata": {},
   "outputs": [],
   "source": [
    "# Store 'Lat' and 'Lng' into a variable \n",
    "locations_2015 = summary_df_2015[[\"latitude\", \"longitude\"]]\n",
    "locations_2016 = summary_df_2016[[\"latitude\", \"longitude\"]]\n",
    "locations_2017 = summary_df_2017[[\"latitude\", \"longitude\"]]\n",
    "\n",
    "\n",
    "# Store median age value in a variable \n",
    "age_2015 = summary_df_2015[\"Median Age\"]\n",
    "age_2016 = summary_df_2016[\"Median Age\"]\n",
    "age_2017 = summary_df_2017[\"Median Age\"]\n",
    "\n",
    "# Store Total Volume in variable\n",
    "total_2015 = summary_df_2015[\"Total Volume\"]\n",
    "total_2016 = summary_df_2016[\"Total Volume\"]\n",
    "total_2017 = summary_df_2017[\"Total Volume\"]\n",
    "\n",
    "# Store Income in variable\n",
    "income_2015 = summary_df_2015[\"Per Capita Income\"]\n",
    "income_2016 = summary_df_2016[\"Per Capita Income\"]\n",
    "income_2017 = summary_df_2017[\"Per Capita Income\"]"
   ]
  },
  {
   "cell_type": "markdown",
   "metadata": {},
   "source": [
    "2015 Heat Maps (Total Volume, Income Per Capita)"
   ]
  },
  {
   "cell_type": "code",
   "execution_count": 29,
   "metadata": {},
   "outputs": [
    {
     "data": {
      "application/vnd.jupyter.widget-view+json": {
       "model_id": "f6daccd76cda471f9631fd648d8e359e",
       "version_major": 2,
       "version_minor": 0
      },
      "text/plain": [
       "Figure(layout=FigureLayout(height='420px'))"
      ]
     },
     "metadata": {},
     "output_type": "display_data"
    }
   ],
   "source": [
    "# Create the mapping figure\n",
    "fig = gmaps.figure()\n",
    "\n",
    "# Create the heatmap layer using locations and total volume\n",
    "heat_layer_2015 = gmaps.heatmap_layer(locations=locations_2015, weights=total_2015, \n",
    "                                 dissipating=False, max_intensity=200000,\n",
    "                                 point_radius=0.9)\n",
    "\n",
    "fig.add_layer(heat_layer_2015)\n",
    "\n",
    "fig"
   ]
  },
  {
   "cell_type": "code",
   "execution_count": 30,
   "metadata": {},
   "outputs": [
    {
     "data": {
      "application/vnd.jupyter.widget-view+json": {
       "model_id": "17e05899cf80482eb0acacfacaf598d7",
       "version_major": 2,
       "version_minor": 0
      },
      "text/plain": [
       "Figure(layout=FigureLayout(height='420px'))"
      ]
     },
     "metadata": {},
     "output_type": "display_data"
    }
   ],
   "source": [
    "fig = gmaps.figure()\n",
    "g = [(80, 80 ,245, 0),\n",
    "     (255, 30 ,30, 1),\n",
    "    (6, 6, 116, 1),\n",
    "    (1, 1, 19, 1)]\n",
    "\n",
    "\n",
    "# Create the heatmap layer using locations and income per capita\n",
    "heat_layer2_2015 = gmaps.heatmap_layer(locations=locations_2015, weights=income_2015,  \n",
    "                                 dissipating=False, max_intensity=53000,\n",
    "                                 point_radius=1, gradient = g)\n",
    "\n",
    "\n",
    "fig.add_layer(heat_layer2_2015)\n",
    "\n",
    "fig"
   ]
  },
  {
   "cell_type": "markdown",
   "metadata": {},
   "source": [
    "2016 Heat Maps (Total Volume, Income Per Capita)"
   ]
  },
  {
   "cell_type": "code",
   "execution_count": 31,
   "metadata": {},
   "outputs": [
    {
     "data": {
      "application/vnd.jupyter.widget-view+json": {
       "model_id": "aa130bcef354470db0264474c8924c37",
       "version_major": 2,
       "version_minor": 0
      },
      "text/plain": [
       "Figure(layout=FigureLayout(height='420px'))"
      ]
     },
     "metadata": {},
     "output_type": "display_data"
    }
   ],
   "source": [
    "# Create the mapping figure\n",
    "fig = gmaps.figure()\n",
    "\n",
    "# Create the heatmap layer using locations and total volume\n",
    "heat_layer_2016 = gmaps.heatmap_layer(locations=locations_2016, weights=total_2016, \n",
    "                                 dissipating=False, max_intensity=200000,\n",
    "                                 point_radius=0.9)\n",
    "\n",
    "fig.add_layer(heat_layer_2016)\n",
    "\n",
    "fig"
   ]
  },
  {
   "cell_type": "code",
   "execution_count": 32,
   "metadata": {},
   "outputs": [
    {
     "data": {
      "application/vnd.jupyter.widget-view+json": {
       "model_id": "2f213732986842fe82f60244cc43036c",
       "version_major": 2,
       "version_minor": 0
      },
      "text/plain": [
       "Figure(layout=FigureLayout(height='420px'))"
      ]
     },
     "metadata": {},
     "output_type": "display_data"
    }
   ],
   "source": [
    "fig = gmaps.figure()\n",
    "g = [(80, 80 ,245, 0),\n",
    "     (255, 30 ,30, 1),\n",
    "    (6, 6, 116, 1),\n",
    "    (1, 1, 19, 1)]\n",
    "\n",
    "\n",
    "# Create the heatmap layer using locations and income per capita\n",
    "heat_layer2_2016 = gmaps.heatmap_layer(locations=locations_2016, weights=income_2016,  \n",
    "                                 dissipating=False, max_intensity=53000,\n",
    "                                 point_radius=1, gradient = g)\n",
    "\n",
    "\n",
    "fig.add_layer(heat_layer2_2016)\n",
    "\n",
    "fig"
   ]
  },
  {
   "cell_type": "markdown",
   "metadata": {},
   "source": [
    "2017 Heat Maps (Total Volume, Income Per Capita)"
   ]
  },
  {
   "cell_type": "code",
   "execution_count": 33,
   "metadata": {},
   "outputs": [
    {
     "data": {
      "application/vnd.jupyter.widget-view+json": {
       "model_id": "d08b0c086979460d95e119b305d88e7f",
       "version_major": 2,
       "version_minor": 0
      },
      "text/plain": [
       "Figure(layout=FigureLayout(height='420px'))"
      ]
     },
     "metadata": {},
     "output_type": "display_data"
    }
   ],
   "source": [
    "# Create the mapping figure\n",
    "fig = gmaps.figure()\n",
    "\n",
    "# Create the heatmap layer using locations and total volume\n",
    "heat_layer_2017 = gmaps.heatmap_layer(locations=locations_2017, weights=total_2017, \n",
    "                                 dissipating=False, max_intensity=200000,\n",
    "                                 point_radius=0.9)\n",
    "\n",
    "fig.add_layer(heat_layer_2017)\n",
    "\n",
    "fig"
   ]
  },
  {
   "cell_type": "code",
   "execution_count": 34,
   "metadata": {},
   "outputs": [
    {
     "data": {
      "application/vnd.jupyter.widget-view+json": {
       "model_id": "7fdf1bbe6c5e4e05964177dec3f6a669",
       "version_major": 2,
       "version_minor": 0
      },
      "text/plain": [
       "Figure(layout=FigureLayout(height='420px'))"
      ]
     },
     "metadata": {},
     "output_type": "display_data"
    }
   ],
   "source": [
    "fig = gmaps.figure()\n",
    "g = [(80, 80 ,245, 0),\n",
    "     (255, 30 ,30, 1),\n",
    "    (6, 6, 116, 1),\n",
    "    (1, 1, 19, 1)]\n",
    "\n",
    "\n",
    "# Create the heatmap layer using locations and income per capita\n",
    "heat_layer2_2017 = gmaps.heatmap_layer(locations=locations_2017, weights=income_2017,  \n",
    "                                 dissipating=False, max_intensity=53000,\n",
    "                                 point_radius=1, gradient = g)\n",
    "\n",
    "\n",
    "fig.add_layer(heat_layer2_2017)\n",
    "\n",
    "fig"
   ]
  },
  {
   "cell_type": "markdown",
   "metadata": {},
   "source": [
    "## Joint maps of Total consumption (total volume) and Income Per Capita"
   ]
  },
  {
   "cell_type": "code",
   "execution_count": 35,
   "metadata": {},
   "outputs": [
    {
     "data": {
      "application/vnd.jupyter.widget-view+json": {
       "model_id": "81e630291dab487e804097c968143069",
       "version_major": 2,
       "version_minor": 0
      },
      "text/plain": [
       "Figure(layout=FigureLayout(height='420px'))"
      ]
     },
     "metadata": {},
     "output_type": "display_data"
    }
   ],
   "source": [
    "fig = gmaps.figure()\n",
    "\n",
    "fig.add_layer(heat_layer_2015)\n",
    "fig.add_layer(heat_layer2_2015)\n",
    "\n",
    "fig"
   ]
  },
  {
   "cell_type": "code",
   "execution_count": 36,
   "metadata": {},
   "outputs": [
    {
     "data": {
      "application/vnd.jupyter.widget-view+json": {
       "model_id": "a89bb537be5a4b588c38e70f54e1094a",
       "version_major": 2,
       "version_minor": 0
      },
      "text/plain": [
       "Figure(layout=FigureLayout(height='420px'))"
      ]
     },
     "metadata": {},
     "output_type": "display_data"
    }
   ],
   "source": [
    "fig = gmaps.figure()\n",
    "\n",
    "fig.add_layer(heat_layer_2016)\n",
    "fig.add_layer(heat_layer2_2016)\n",
    "\n",
    "fig"
   ]
  },
  {
   "cell_type": "code",
   "execution_count": 37,
   "metadata": {},
   "outputs": [
    {
     "data": {
      "application/vnd.jupyter.widget-view+json": {
       "model_id": "3c301b007bab42118d99584e1c791fb0",
       "version_major": 2,
       "version_minor": 0
      },
      "text/plain": [
       "Figure(layout=FigureLayout(height='420px'))"
      ]
     },
     "metadata": {},
     "output_type": "display_data"
    }
   ],
   "source": [
    "fig = gmaps.figure()\n",
    "\n",
    "fig.add_layer(heat_layer_2017)\n",
    "fig.add_layer(heat_layer2_2017)\n",
    "\n",
    "fig"
   ]
  },
  {
   "cell_type": "code",
   "execution_count": null,
   "metadata": {},
   "outputs": [],
   "source": []
  }
 ],
 "metadata": {
  "kernelspec": {
   "display_name": "Python 3",
   "language": "python",
   "name": "python3"
  },
  "language_info": {
   "codemirror_mode": {
    "name": "ipython",
    "version": 3
   },
   "file_extension": ".py",
   "mimetype": "text/x-python",
   "name": "python",
   "nbconvert_exporter": "python",
   "pygments_lexer": "ipython3",
   "version": "3.7.3"
  }
 },
 "nbformat": 4,
 "nbformat_minor": 4
}
