{
 "cells": [
  {
   "cell_type": "markdown",
   "metadata": {},
   "source": [
    "# Avocado Consumption by Age and by Region"
   ]
  },
  {
   "cell_type": "markdown",
   "metadata": {},
   "source": [
    "In this notebook we will use the Census and Avocado database to plot the avocado consumption in the US by age and by region"
   ]
  },
  {
   "cell_type": "code",
   "execution_count": null,
   "metadata": {},
   "outputs": [],
   "source": [
    "%matplotlib notebook"
   ]
  },
  {
   "cell_type": "code",
   "execution_count": 1,
   "metadata": {},
   "outputs": [],
   "source": [
    "# Import dependencies \n",
    "import os\n",
    "import pandas as pd\n",
    "import numpy as np\n",
    "import matplotlib.pyplot as plt\n",
    "import time"
   ]
  },
  {
   "cell_type": "code",
   "execution_count": 9,
   "metadata": {},
   "outputs": [],
   "source": [
    "# Import csv files\n",
    "#     For census\n",
    "census_file_2015 = os.path.join('data','census_data_2015_clean.csv')\n",
    "census_file_2016 = os.path.join('data','census_data_2016_clean.csv')\n",
    "census_file_2017 = os.path.join('data','census_data_2017_clean.csv')\n",
    "\n",
    "#     For avocado\n",
    "avocado_file_2015 = os.path.join('Resources','avocado2015.csv')\n",
    "avocado_file_2016 = os.path.join('Resources','avocado2016.csv')\n",
    "avocado_file_2017 = os.path.join('Resources','avocado2017.csv')\n",
    "\n",
    "# Read csv files\n",
    "#     For census\n",
    "census_2015_df = pd.read_csv(census_file_2015)\n",
    "census_2016_df = pd.read_csv(census_file_2016)\n",
    "census_2017_df = pd.read_csv(census_file_2017)\n",
    "#     For avocado\n",
    "avocado_2015_df = pd.read_csv(avocado_file_2015)\n",
    "avocado_2016_df = pd.read_csv(avocado_file_2016)\n",
    "avocado_2017_df = pd.read_csv(avocado_file_2017)"
   ]
  },
  {
   "cell_type": "code",
   "execution_count": null,
   "metadata": {},
   "outputs": [],
   "source": [
    "# Display csv files\n",
    "\n",
    "# census_2015_df\n",
    "# census_2016_df.head()\n",
    "# census_2017_df.head()\n",
    "# avocado_2015_df.head()\n",
    "# avocado_2016_df.head()\n",
    "# avocado_2017_df.head()"
   ]
  },
  {
   "cell_type": "code",
   "execution_count": null,
   "metadata": {},
   "outputs": [],
   "source": [
    "# test = [census_2017_df['Zipcode'].between(601,610), census_2017_df['Zipcode'].between(617,624), census_2017_df['Zipcode'].between(627,638)]\n",
    "# values = [\"test1\", \"test2\", \"test3\"]\n",
    "\n",
    "# census_2017_df['City'] = np.select(test, values, 0)\n",
    "# census_2017_df"
   ]
  },
  {
   "cell_type": "code",
   "execution_count": 21,
   "metadata": {},
   "outputs": [
    {
     "data": {
      "text/plain": [
       "0                      24349\n",
       "CincinnatiDayton        1294\n",
       "Sacramento               546\n",
       "DallasFtWorth            509\n",
       "PhoenixTucson            376\n",
       "Chicago                  332\n",
       "Atlanta                  311\n",
       "WestTexNewMexico         288\n",
       "LosAngeles               245\n",
       "Houston                  244\n",
       "NewYork                  229\n",
       "Denver                   189\n",
       "RaleighGreensboro        140\n",
       "Nashville                126\n",
       "Jacksonville             107\n",
       "BaltimoreWashington      104\n",
       "Portland                 101\n",
       "Philadelphia              98\n",
       "Indianapolis              95\n",
       "Louisville                93\n",
       "SanDiego                  92\n",
       "MiamiFtLauderdale         88\n",
       "Detroit                   87\n",
       "Albany                    86\n",
       "RichmondNorfolk           85\n",
       "HarrisburgScranton        81\n",
       "Boston                    81\n",
       "LasVegas                  80\n",
       "HartfordSpringfield       74\n",
       "Pittsburgh                63\n",
       "Charlotte                 62\n",
       "NewOrleansMobile          56\n",
       "SouthCarolina             54\n",
       "SanFrancisco              53\n",
       "BuffaloRochester          49\n",
       "StLouis                   45\n",
       "Orlando                   34\n",
       "Seattle                   33\n",
       "Tampa                     26\n",
       "Syracuse                  15\n",
       "GrandRapids               14\n",
       "Spokane                   14\n",
       "Boise                     10\n",
       "Roanoke                    9\n",
       "Name: region, dtype: int64"
      ]
     },
     "execution_count": 21,
     "metadata": {},
     "output_type": "execute_result"
    }
   ],
   "source": [
    "zipcode_range = [census_2015_df['Zipcode'].between(1020, 1199), census_2015_df['Zipcode'].between(2101, 2445), census_2015_df['Zipcode'].between(6101, 6167), census_2015_df['Zipcode'].between(10001, 11104), census_2015_df['Zipcode'].between(12084,12260), census_2015_df['Zipcode'].between(13201, 13290), census_2015_df['Zipcode'].between(14201, 14276), census_2015_df['Zipcode'].between(14602, 14694), census_2015_df['Zipcode'].between(15106, 15295), census_2015_df['Zipcode'].between(17025, 17130), census_2015_df['Zipcode'].between(18503, 18519), census_2015_df['Zipcode'].between(19019, 19255), census_2015_df['Zipcode'].between(20001, 20456), census_2015_df['Zipcode'].between(21201, 21298), census_2015_df['Zipcode'].between(91911, 92199), census_2015_df['Zipcode'].between(23173, 23298), census_2015_df['Zipcode'].between(23324, 23551), census_2015_df['Zipcode'].between(24001, 24050), census_2015_df['Zipcode'].between(27214, 27499), census_2015_df['Zipcode'].between(27513, 27698), census_2015_df['Zipcode'].between(28105, 28299), census_2015_df['Zipcode'].between(29401, 29493), census_2015_df['Zipcode'].between(30301, 31196), census_2015_df['Zipcode'].between(32034, 32257), census_2015_df['Zipcode'].between(32789, 32897), census_2015_df['Zipcode'].between(33101, 33255), census_2015_df['Zipcode'].between(33301, 33394), census_2015_df['Zipcode'].between(33601, 33681), census_2015_df['Zipcode'].between(37011, 37250), census_2015_df['Zipcode'].between(40018, 40299), census_2015_df['Zipcode'].between(41073, 45299), census_2015_df['Zipcode'].between(43004, 43291), census_2015_df['Zipcode'].between(45377, 45490), census_2015_df['Zipcode'].between(46077, 46298), census_2015_df['Zipcode'].between(48127, 48288), census_2015_df['Zipcode'].between(49501, 49599), census_2015_df['Zipcode'].between(60007, 60827), census_2015_df['Zipcode'].between(60044, 60088), census_2015_df['Zipcode'].between(63101, 63199), census_2015_df['Zipcode'].between(70032, 70190), census_2015_df['Zipcode'].between(75001, 76217), census_2015_df['Zipcode'].between(76006, 76262), census_2015_df['Zipcode'].between(77001, 77571), census_2015_df['Zipcode'].between(80014, 80642), census_2015_df['Zipcode'].between(83701, 83735), census_2015_df['Zipcode'].between(85001, 85709), census_2015_df['Zipcode'].between(85641, 86714), census_2015_df['Zipcode'].between(87001, 88439), census_2015_df['Zipcode'].between(88901, 89163), census_2015_df['Zipcode'].between(90001, 91610), census_2015_df['Zipcode'].between(90210, 90296), census_2015_df['Zipcode'].between(94016, 94188), census_2015_df['Zipcode'].between(94203, 95894), census_2015_df['Zipcode'].between(97035, 97296), census_2015_df['Zipcode'].between(98101, 98191), census_2015_df['Zipcode'].between(99201, 99260)]\n",
    "\n",
    "city = [\"HartfordSpringfield\", \"Boston\", \"HartfordSpringfield\", \"NewYork\", \"Albany\", \"Syracuse\", \"BuffaloRochester\", \"BuffaloRochester\", \"Pittsburgh\", \"HarrisburgScranton\", \"HarrisburgScranton\", \"Philadelphia\", \"BaltimoreWashington\", \"BaltimoreWashington\", \"SanDiego\", \"RichmondNorfolk\", \"RichmondNorfolk\", \"Roanoke\", \"RaleighGreensboro\", \"RaleighGreensboro\", \"Charlotte\", \"SouthCarolina\", \"Atlanta\", \"Jacksonville\", \"Orlando\", \"MiamiFtLauderdale\", \"MiamiFtLauderdale\", \"Tampa\", \"Nashville\", \"Louisville\", \"CincinnatiDayton\", \"Columbus\", \"CincinnatiDayton\", \"Indianapolis\", \"Detroit\", \"GrandRapids\", \"Chicago\", \"GreatLakes\", \"StLouis\", \"NewOrleansMobile\", \"DallasFtWorth\", \"DallasFtWorth\", \"Houston\", \"Denver\", \"Boise\", \"PhoenixTucson\", \"PhoenixTucson\", \"WestTexNewMexico\", \"LasVegas\", \"LosAngeles\", \"California\", \"SanFrancisco\", \"Sacramento\", \"Portland\", \"Seattle\", \"Spokane\"]\n",
    "\n",
    "census_2015_df['region'] = np.select(zipcode_range, city, 0)\n",
    "\n",
    "census_2015_df['region'].value_counts()"
   ]
  },
  {
   "cell_type": "code",
   "execution_count": null,
   "metadata": {},
   "outputs": [],
   "source": []
  },
  {
   "cell_type": "code",
   "execution_count": null,
   "metadata": {},
   "outputs": [],
   "source": []
  }
 ],
 "metadata": {
  "kernelspec": {
   "display_name": "Python 3",
   "language": "python",
   "name": "python3"
  },
  "language_info": {
   "codemirror_mode": {
    "name": "ipython",
    "version": 3
   },
   "file_extension": ".py",
   "mimetype": "text/x-python",
   "name": "python",
   "nbconvert_exporter": "python",
   "pygments_lexer": "ipython3",
   "version": "3.7.3"
  }
 },
 "nbformat": 4,
 "nbformat_minor": 4
}
