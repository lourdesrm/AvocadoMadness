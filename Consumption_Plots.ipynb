{
 "cells": [
  {
   "cell_type": "markdown",
   "metadata": {},
   "source": [
    "# Avocado Consumption by Age and by Region"
   ]
  },
  {
   "cell_type": "markdown",
   "metadata": {},
   "source": [
    "In this notebook we will use the Census and Avocado database to plot the avocado consumption in the US by age and by region"
   ]
  },
  {
   "cell_type": "code",
   "execution_count": null,
   "metadata": {},
   "outputs": [],
   "source": [
    "%matplotlib notebook"
   ]
  },
  {
   "cell_type": "code",
   "execution_count": 14,
   "metadata": {},
   "outputs": [],
   "source": [
    "# Import dependencies \n",
    "import os\n",
    "import pandas as pd\n",
    "import numpy as np\n",
    "import matplotlib.pyplot as plt\n",
    "import time"
   ]
  },
  {
   "cell_type": "code",
   "execution_count": 19,
   "metadata": {},
   "outputs": [],
   "source": [
    "# Import csv files\n",
    "#     For census\n",
    "census_file_2015 = os.path.join('data','census_data_2015_clean.csv')\n",
    "census_file_2016 = os.path.join('data','census_data_2016_clean.csv')\n",
    "census_file_2017 = os.path.join('data','census_data_2017_clean.csv')\n",
    "\n",
    "#     For avocado\n",
    "avocado_file_2015 = os.path.join('Resources 9.31.21 PM','avocado2015.csv')\n",
    "avocado_file_2016 = os.path.join('Resources 9.31.21 PM','avocado2016.csv')\n",
    "avocado_file_2017 = os.path.join('Resources 9.31.21 PM','avocado2017.csv')\n",
    "\n",
    "# Read csv files\n",
    "#     For census\n",
    "census_2015_df = pd.read_csv(census_file_2015, dtype = str)\n",
    "census_2016_df = pd.read_csv(census_file_2016, dtype = str)\n",
    "census_2017_df = pd.read_csv(census_file_2017, dtype = str)\n",
    "#     For avocado\n",
    "avocado_2015_df = pd.read_csv(avocado_file_2015)\n",
    "avocado_2016_df = pd.read_csv(avocado_file_2016)\n",
    "avocado_2017_df = pd.read_csv(avocado_file_2017)"
   ]
  },
  {
   "cell_type": "code",
   "execution_count": 21,
   "metadata": {},
   "outputs": [
    {
     "data": {
      "text/plain": [
       "HartfordSpringfield    104\n",
       "Houston                104\n",
       "DallasFtWorth          104\n",
       "Denver                 104\n",
       "RichmondNorfolk        104\n",
       "Syracuse               104\n",
       "Sacramento             104\n",
       "NewOrleansMobile       104\n",
       "TotalUS                104\n",
       "Plains                 104\n",
       "MiamiFtLauderdale      104\n",
       "StLouis                104\n",
       "Boston                 104\n",
       "BuffaloRochester       104\n",
       "Tampa                  104\n",
       "SanFrancisco           104\n",
       "SouthCarolina          104\n",
       "Midsouth               104\n",
       "Charlotte              104\n",
       "Portland               104\n",
       "SanDiego               104\n",
       "Boise                  104\n",
       "LasVegas               104\n",
       "Indianapolis           104\n",
       "Seattle                104\n",
       "Jacksonville           104\n",
       "Albany                 104\n",
       "California             104\n",
       "West                   104\n",
       "Spokane                104\n",
       "RaleighGreensboro      104\n",
       "Roanoke                104\n",
       "Southeast              104\n",
       "PhoenixTucson          104\n",
       "Atlanta                104\n",
       "Northeast              104\n",
       "NorthernNewEngland     104\n",
       "NewYork                104\n",
       "Philadelphia           104\n",
       "Orlando                104\n",
       "GrandRapids            104\n",
       "Louisville             104\n",
       "Detroit                104\n",
       "HarrisburgScranton     104\n",
       "SouthCentral           104\n",
       "GreatLakes             104\n",
       "Columbus               104\n",
       "LosAngeles             104\n",
       "CincinnatiDayton       104\n",
       "Nashville              104\n",
       "Pittsburgh             104\n",
       "Chicago                104\n",
       "BaltimoreWashington    104\n",
       "WestTexNewMexico       103\n",
       "Name: region, dtype: int64"
      ]
     },
     "execution_count": 21,
     "metadata": {},
     "output_type": "execute_result"
    }
   ],
   "source": [
    "# Display csv files\n",
    "\n",
    "# census_2017_df.head()\n",
    "# census_2016_df.head()\n",
    "# census_2017_df.head()\n",
    "# avocado_2015_df.head()\n",
    "# avocado_2016_df.head()\n",
    "# avocado_2017_df.head()\n",
    "avocado_2015_df['region'].value_counts()"
   ]
  },
  {
   "cell_type": "code",
   "execution_count": null,
   "metadata": {},
   "outputs": [],
   "source": []
  }
 ],
 "metadata": {
  "kernelspec": {
   "display_name": "Python 3",
   "language": "python",
   "name": "python3"
  },
  "language_info": {
   "codemirror_mode": {
    "name": "ipython",
    "version": 3
   },
   "file_extension": ".py",
   "mimetype": "text/x-python",
   "name": "python",
   "nbconvert_exporter": "python",
   "pygments_lexer": "ipython3",
   "version": "3.7.4"
  }
 },
 "nbformat": 4,
 "nbformat_minor": 4
}
